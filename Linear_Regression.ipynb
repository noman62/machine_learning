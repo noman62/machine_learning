{
 "cells": [
  {
   "cell_type": "code",
   "execution_count": 76,
   "id": "6dda55bf",
   "metadata": {
    "scrolled": true
   },
   "outputs": [],
   "source": [
    "import pandas as pd\n",
    "Iris=pd.read_csv('new.csv')"
   ]
  },
  {
   "cell_type": "code",
   "execution_count": 61,
   "id": "0e4fda53",
   "metadata": {},
   "outputs": [],
   "source": [
    "y=Iris[['sqft_lot15']]"
   ]
  },
  {
   "cell_type": "code",
   "execution_count": 74,
   "id": "d46f42df",
   "metadata": {},
   "outputs": [],
   "source": [
    "x=Iris.iloc[:,0:-1]"
   ]
  },
  {
   "cell_type": "code",
   "execution_count": 63,
   "id": "99313617",
   "metadata": {},
   "outputs": [],
   "source": [
    "x=x.drop(\"date\", axis=1) "
   ]
  },
  {
   "cell_type": "code",
   "execution_count": 65,
   "id": "bc4849ad",
   "metadata": {},
   "outputs": [],
   "source": [
    "from sklearn.linear_model import LinearRegression\n",
    "from sklearn.ensemble import RandomForestRegressor"
   ]
  },
  {
   "cell_type": "code",
   "execution_count": 66,
   "id": "103446f0",
   "metadata": {},
   "outputs": [],
   "source": [
    "from sklearn.model_selection import train_test_split"
   ]
  },
  {
   "cell_type": "code",
   "execution_count": 68,
   "id": "1852b4b2",
   "metadata": {},
   "outputs": [],
   "source": [
    "rf= RandomForestRegressor()"
   ]
  },
  {
   "cell_type": "code",
   "execution_count": null,
   "id": "e223223f",
   "metadata": {},
   "outputs": [],
   "source": []
  },
  {
   "cell_type": "code",
   "execution_count": 67,
   "id": "62b5b0b2",
   "metadata": {},
   "outputs": [],
   "source": [
    "x_train,x_test,y_train,y_test=train_test_split(x,y,test_size=0.3)\n",
    "lr=LinearRegression()\n",
    "lr.fit(x_train,y_train)\n",
    "y_pred=lr.predict(x_test)"
   ]
  },
  {
   "cell_type": "code",
   "execution_count": 78,
   "id": "7daf02a5",
   "metadata": {},
   "outputs": [
    {
     "name": "stderr",
     "output_type": "stream",
     "text": [
      "C:\\Users\\HP\\AppData\\Local\\Temp\\ipykernel_11468\\2491704576.py:1: DataConversionWarning: A column-vector y was passed when a 1d array was expected. Please change the shape of y to (n_samples,), for example using ravel().\n",
      "  rf.fit(x_train,y_train)\n"
     ]
    }
   ],
   "source": [
    "rf.fit(x_train,y_train)\n",
    "ypred=rf.predict(x_test)"
   ]
  },
  {
   "cell_type": "code",
   "execution_count": 71,
   "id": "157c7a61",
   "metadata": {},
   "outputs": [
    {
     "data": {
      "text/plain": [
       "array([[ 9269.07574884],\n",
       "       [ 8783.18449161],\n",
       "       [ 9479.63794205],\n",
       "       [ 9480.5323727 ],\n",
       "       [11189.86162522]])"
      ]
     },
     "execution_count": 71,
     "metadata": {},
     "output_type": "execute_result"
    }
   ],
   "source": [
    "y_pred[0:5]"
   ]
  },
  {
   "cell_type": "code",
   "execution_count": 72,
   "id": "fca949a7",
   "metadata": {},
   "outputs": [],
   "source": [
    "from sklearn.metrics import mean_squared_error,r2_score"
   ]
  },
  {
   "cell_type": "code",
   "execution_count": 73,
   "id": "b8eda870",
   "metadata": {},
   "outputs": [
    {
     "data": {
      "text/plain": [
       "0.6498189944789674"
      ]
     },
     "execution_count": 73,
     "metadata": {},
     "output_type": "execute_result"
    }
   ],
   "source": [
    "r2_score(y_test,ypred)"
   ]
  },
  {
   "cell_type": "code",
   "execution_count": 52,
   "id": "025c8b02",
   "metadata": {},
   "outputs": [
    {
     "data": {
      "text/plain": [
       "339561776.0150733"
      ]
     },
     "execution_count": 52,
     "metadata": {},
     "output_type": "execute_result"
    }
   ],
   "source": [
    "mean_squared_error(y_test,y_pred)"
   ]
  },
  {
   "cell_type": "code",
   "execution_count": 53,
   "id": "a42d5b0a",
   "metadata": {},
   "outputs": [],
   "source": [
    "#x=Iris[['bedrooms','price']]"
   ]
  }
 ],
 "metadata": {
  "kernelspec": {
   "display_name": "Python 3 (ipykernel)",
   "language": "python",
   "name": "python3"
  },
  "language_info": {
   "codemirror_mode": {
    "name": "ipython",
    "version": 3
   },
   "file_extension": ".py",
   "mimetype": "text/x-python",
   "name": "python",
   "nbconvert_exporter": "python",
   "pygments_lexer": "ipython3",
   "version": "3.9.12"
  }
 },
 "nbformat": 4,
 "nbformat_minor": 5
}
